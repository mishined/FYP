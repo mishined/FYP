{
  "cells": [
    {
      "cell_type": "code",
      "execution_count": 81,
      "metadata": {
        "collapsed": false
      },
      "outputs": [],
      "source": [
        "%matplotlib inline"
      ]
    },
    {
      "cell_type": "markdown",
      "metadata": {},
      "source": [
        "\n",
        "# Optical Flow: Predicting movement with the RAFT model\n",
        "\n",
        "Optical flow is the task of predicting movement between two images, usually two\n",
        "consecutive frames of a video. Optical flow models take two images as input, and\n",
        "predict a flow: the flow indicates the displacement of every single pixel in the\n",
        "first image, and maps it to its corresponding pixel in the second image. Flows\n",
        "are (2, H, W)-dimensional tensors, where the first axis corresponds to the\n",
        "predicted horizontal and vertical displacements.\n",
        "\n",
        "The following example illustrates how torchvision can be used to predict flows\n",
        "using our implementation of the RAFT model. We will also see how to convert the\n",
        "predicted flows to RGB images for visualization.\n"
      ]
    },
    {
      "cell_type": "code",
      "execution_count": 82,
      "metadata": {
        "collapsed": false
      },
      "outputs": [],
      "source": [
        "import numpy as np\n",
        "import torch\n",
        "import matplotlib.pyplot as plt\n",
        "import torchvision.transforms.functional as F\n",
        "\n",
        "\n",
        "plt.rcParams[\"savefig.bbox\"] = \"tight\"\n",
        "\n",
        "\n",
        "def plot(imgs, **imshow_kwargs):\n",
        "    if not isinstance(imgs[0], list):\n",
        "        # Make a 2d grid even if there's just 1 row\n",
        "        imgs = [imgs]\n",
        "\n",
        "    num_rows = len(imgs)\n",
        "    num_cols = len(imgs[0])\n",
        "    _, axs = plt.subplots(nrows=num_rows, ncols=num_cols, squeeze=False)\n",
        "    for row_idx, row in enumerate(imgs):\n",
        "        for col_idx, img in enumerate(row):\n",
        "            ax = axs[row_idx, col_idx]\n",
        "            img = F.to_pil_image(img.to(\"cpu\"))\n",
        "            ax.imshow(np.asarray(img), **imshow_kwargs)\n",
        "            ax.set(xticklabels=[], yticklabels=[], xticks=[], yticks=[])\n",
        "\n",
        "    plt.tight_layout()"
      ]
    },
    {
      "cell_type": "markdown",
      "metadata": {},
      "source": [
        "## Reading Videos Using Torchvision\n",
        "We will first read a video using :func:`~torchvision.io.read_video`.\n",
        "Alternatively one can use the new :class:`~torchvision.io.VideoReader` API (if\n",
        "torchvision is built from source).\n",
        "The video we will use here is free of use from [pexels.com](https://www.pexels.com/video/a-man-playing-a-game-of-basketball-5192157/),\n",
        "credits go to [Pavel Danilyuk](https://www.pexels.com/@pavel-danilyuk).\n",
        "\n"
      ]
    },
    {
      "cell_type": "code",
      "execution_count": 83,
      "metadata": {},
      "outputs": [],
      "source": [
        "# # Import necessary libraries\n",
        "# import torch\n",
        "# from PIL import Image\n",
        "# import torchvision.transforms as transforms\n",
        "\n",
        "# # Read a PIL image\n",
        "# image1 = Image.open('C:/Users/Misha/Desktop/1.png')\n",
        "# image2 = Image.open('C:/Users/Misha/Desktop/2.png')\n",
        "\n",
        "\n",
        "# # Define a transform to convert PIL\n",
        "# # image to a Torch tensor\n",
        "# transform = transforms.Compose([\n",
        "# \ttransforms.PILToTensor()\n",
        "# ])\n",
        "\n",
        "# # transform = transforms.PILToTensor()\n",
        "# # Convert the PIL image to Torch tensor\n",
        "# img1_tensor = transform(image1)\n",
        "# img2_tensor = transform(image2)\n",
        "\n",
        "# # print the converted Torch tensor\n",
        "# plot(img1_tensor)\n",
        "# img1_tensor.shape\n"
      ]
    },
    {
      "cell_type": "code",
      "execution_count": 112,
      "metadata": {},
      "outputs": [
        {
          "name": "stdout",
          "output_type": "stream",
          "text": [
            "<class 'PIL.PngImagePlugin.PngImageFile'>\n",
            "tensor([[[1., 1., 1.,  ..., 1., 1., 1.],\n",
            "         [1., 1., 1.,  ..., 1., 1., 1.],\n",
            "         [1., 1., 1.,  ..., 1., 1., 1.],\n",
            "         ...,\n",
            "         [1., 1., 1.,  ..., 1., 1., 1.],\n",
            "         [1., 1., 1.,  ..., 1., 1., 1.],\n",
            "         [1., 1., 1.,  ..., 1., 1., 1.]],\n",
            "\n",
            "        [[1., 1., 1.,  ..., 1., 1., 1.],\n",
            "         [1., 1., 1.,  ..., 1., 1., 1.],\n",
            "         [1., 1., 1.,  ..., 1., 1., 1.],\n",
            "         ...,\n",
            "         [1., 1., 1.,  ..., 1., 1., 1.],\n",
            "         [1., 1., 1.,  ..., 1., 1., 1.],\n",
            "         [1., 1., 1.,  ..., 1., 1., 1.]],\n",
            "\n",
            "        [[1., 1., 1.,  ..., 1., 1., 1.],\n",
            "         [1., 1., 1.,  ..., 1., 1., 1.],\n",
            "         [1., 1., 1.,  ..., 1., 1., 1.],\n",
            "         ...,\n",
            "         [1., 1., 1.,  ..., 1., 1., 1.],\n",
            "         [1., 1., 1.,  ..., 1., 1., 1.],\n",
            "         [1., 1., 1.,  ..., 1., 1., 1.]],\n",
            "\n",
            "        [[1., 1., 1.,  ..., 1., 1., 1.],\n",
            "         [1., 1., 1.,  ..., 1., 1., 1.],\n",
            "         [1., 1., 1.,  ..., 1., 1., 1.],\n",
            "         ...,\n",
            "         [1., 1., 1.,  ..., 1., 1., 1.],\n",
            "         [1., 1., 1.,  ..., 1., 1., 1.],\n",
            "         [1., 1., 1.,  ..., 1., 1., 1.]]])\n"
          ]
        }
      ],
      "source": [
        "# Import required libraries\n",
        "import torch\n",
        "import cv2\n",
        "import torchvision.transforms as transforms\n",
        "from torch import from_numpy\n",
        "import skimage\n",
        "\n",
        "# Read the image\n",
        "image1 = Image.open('C:/Users/Misha/Desktop/p/1.png')\n",
        "image2 = Image.open('C:/Users/Misha/Desktop/p/3.png')\n",
        "\n",
        "# Convert BGR image to RGB image\n",
        "# image1 = cv2.cvtColor(image1, cv2.COLOR_BGR2RGB)\n",
        "# image2 = cv2.cvtColor(image2, cv2.COLOR_BGR2RGB)\n",
        "\n",
        "print(type(image1))\n",
        "\n",
        "# Define a transform to convert\n",
        "# the image to torch tensor\n",
        "transform = transforms.Compose([\n",
        "\ttransforms.ToTensor()\n",
        "])\n",
        "\n",
        "# Convert the image to Torch tensor\n",
        "tensor1 = transform(image1)\n",
        "tensor2 = transform(image2)\n",
        "\n",
        "# print the converted image tensor\n",
        "print(tensor1)\n",
        "\n"
      ]
    },
    {
      "cell_type": "code",
      "execution_count": 113,
      "metadata": {},
      "outputs": [
        {
          "data": {
            "image/png": "[encoded data removed]",
            "text/plain": [
              "<Figure size 640x480 with 3 Axes>"
            ]
          },
          "metadata": {},
          "output_type": "display_data"
        }
      ],
      "source": [
        "plot(tensor1[:3, :,:])"
      ]
    },
    {
      "cell_type": "code",
      "execution_count": 86,
      "metadata": {
        "collapsed": false
      },
      "outputs": [],
      "source": [
        "from torchvision.io import read_video\n",
        "# frames, _, _ = read_video(str(video_path), output_format=\"TCHW\")\n",
        "\n",
        "img1_batch = torch.stack([tensor1[:3, :,:]])\n",
        "img2_batch = torch.stack([tensor2[:3,:,:]])\n",
        "\n",
        "# plot(img1_batch)"
      ]
    },
    {
      "cell_type": "code",
      "execution_count": 87,
      "metadata": {},
      "outputs": [
        {
          "data": {
            "image/png": "[encoded data removed]",
            "text/plain": [
              "<Figure size 640x480 with 1 Axes>"
            ]
          },
          "metadata": {},
          "output_type": "display_data"
        }
      ],
      "source": [
        "plot(img1_batch)"
      ]
    },
    {
      "cell_type": "code",
      "execution_count": 88,
      "metadata": {},
      "outputs": [
        {
          "data": {
            "image/png": "[encoded data removed]",
            "text/plain": [
              "<Figure size 640x480 with 1 Axes>"
            ]
          },
          "metadata": {},
          "output_type": "display_data"
        }
      ],
      "source": [
        "plot(img2_batch)"
      ]
    },
    {
      "cell_type": "markdown",
      "metadata": {},
      "source": [
        "The RAFT model accepts RGB images. We first get the frames from\n",
        ":func:`~torchvision.io.read_video` and resize them to ensure their dimensions\n",
        "are divisible by 8. Note that we explicitly use ``antialias=False``, because\n",
        "this is how those models were trained. Then we use the transforms bundled into\n",
        "the weights in order to preprocess the input and rescale its values to the\n",
        "required ``[-1, 1]`` interval.\n",
        "\n"
      ]
    },
    {
      "cell_type": "code",
      "execution_count": 89,
      "metadata": {},
      "outputs": [
        {
          "data": {
            "text/plain": [
              "torch.Size([4, 1600, 2000])"
            ]
          },
          "execution_count": 89,
          "metadata": {},
          "output_type": "execute_result"
        }
      ],
      "source": [
        "tensor1.shape"
      ]
    },
    {
      "cell_type": "code",
      "execution_count": 90,
      "metadata": {
        "collapsed": false
      },
      "outputs": [
        {
          "name": "stdout",
          "output_type": "stream",
          "text": [
            "shape = torch.Size([1, 3, 200, 392]), dtype = torch.float32\n"
          ]
        }
      ],
      "source": [
        "from torchvision.models.optical_flow import Raft_Large_Weights\n",
        "\n",
        "weights = Raft_Large_Weights.DEFAULT\n",
        "transforms = weights.transforms()\n",
        "\n",
        "\n",
        "def preprocess(img1_batch, img2_batch):\n",
        "    img1_batch = F.resize(img1_batch, size=[200, 392], antialias=False)\n",
        "    img2_batch = F.resize(img2_batch, size=[200, 392], antialias=False)\n",
        "    return transforms(img1_batch, img2_batch)\n",
        "\n",
        "\n",
        "img1_batch, img2_batch = preprocess(img1_batch, img2_batch)\n",
        "\n",
        "print(f\"shape = {img1_batch.shape}, dtype = {img1_batch.dtype}\")"
      ]
    },
    {
      "cell_type": "code",
      "execution_count": 91,
      "metadata": {},
      "outputs": [
        {
          "data": {
            "image/png": "[encoded data removed]",
            "text/plain": [
              "<Figure size 640x480 with 1 Axes>"
            ]
          },
          "metadata": {},
          "output_type": "display_data"
        }
      ],
      "source": [
        "plot(img1_batch)"
      ]
    },
    {
      "cell_type": "markdown",
      "metadata": {},
      "source": [
        "## Estimating Optical flow using RAFT\n",
        "We will use our RAFT implementation from\n",
        ":func:`~torchvision.models.optical_flow.raft_large`, which follows the same\n",
        "architecture as the one described in the [original paper](https://arxiv.org/abs/2003.12039).\n",
        "We also provide the :func:`~torchvision.models.optical_flow.raft_small` model\n",
        "builder, which is smaller and faster to run, sacrificing a bit of accuracy.\n",
        "\n"
      ]
    },
    {
      "cell_type": "code",
      "execution_count": 92,
      "metadata": {
        "collapsed": false
      },
      "outputs": [
        {
          "name": "stdout",
          "output_type": "stream",
          "text": [
            "type = <class 'list'>\n",
            "length = 12 = number of iterations of the model\n"
          ]
        }
      ],
      "source": [
        "from torchvision.models.optical_flow import raft_large\n",
        "\n",
        "# If you can, run this example on a GPU, it will be a lot faster.\n",
        "device =  \"cpu\"\n",
        "\n",
        "model = raft_large(weights=Raft_Large_Weights.DEFAULT, progress=False).to(device)\n",
        "model = model.eval()\n",
        "\n",
        "list_of_flows = model(img1_batch.to(device), img2_batch.to(device))\n",
        "print(f\"type = {type(list_of_flows)}\")\n",
        "print(f\"length = {len(list_of_flows)} = number of iterations of the model\")"
      ]
    },
    {
      "cell_type": "code",
      "execution_count": 93,
      "metadata": {},
      "outputs": [],
      "source": [
        "# device = \"cuda:0\" if torch.cuda.is_available() else \"cpu\"\n",
        "# print(device)"
      ]
    },
    {
      "cell_type": "markdown",
      "metadata": {},
      "source": [
        "The RAFT model outputs lists of predicted flows where each entry is a\n",
        "(N, 2, H, W) batch of predicted flows that corresponds to a given \"iteration\"\n",
        "in the model. For more details on the iterative nature of the model, please\n",
        "refer to the [original paper](https://arxiv.org/abs/2003.12039). Here, we\n",
        "are only interested in the final predicted flows (they are the most acccurate\n",
        "ones), so we will just retrieve the last item in the list.\n",
        "\n",
        "As described above, a flow is a tensor with dimensions (2, H, W) (or (N, 2, H,\n",
        "W) for batches of flows) where each entry corresponds to the horizontal and\n",
        "vertical displacement of each pixel from the first image to the second image.\n",
        "Note that the predicted flows are in \"pixel\" unit, they are not normalized\n",
        "w.r.t. the dimensions of the images.\n",
        "\n"
      ]
    },
    {
      "cell_type": "code",
      "execution_count": 94,
      "metadata": {
        "collapsed": false
      },
      "outputs": [
        {
          "name": "stdout",
          "output_type": "stream",
          "text": [
            "dtype = torch.float32\n",
            "shape = torch.Size([1, 2, 200, 392]) = (N, 2, H, W)\n",
            "min = -14.462202072143555, max = 102.79991912841797\n"
          ]
        }
      ],
      "source": [
        "predicted_flows = list_of_flows[-1]\n",
        "print(f\"dtype = {predicted_flows.dtype}\")\n",
        "print(f\"shape = {predicted_flows.shape} = (N, 2, H, W)\")\n",
        "print(f\"min = {predicted_flows.min()}, max = {predicted_flows.max()}\")"
      ]
    },
    {
      "cell_type": "markdown",
      "metadata": {},
      "source": [
        "## Visualizing predicted flows\n",
        "Torchvision provides the :func:`~torchvision.utils.flow_to_image` utlity to\n",
        "convert a flow into an RGB image. It also supports batches of flows.\n",
        "each \"direction\" in the flow will be mapped to a given RGB color. In the\n",
        "images below, pixels with similar colors are assumed by the model to be moving\n",
        "in similar directions. The model is properly able to predict the movement of\n",
        "the ball and the player. Note in particular the different predicted direction\n",
        "of the ball in the first image (going to the left) and in the second image\n",
        "(going up).\n",
        "\n"
      ]
    },
    {
      "cell_type": "code",
      "execution_count": 95,
      "metadata": {},
      "outputs": [
        {
          "data": {
            "image/png": "[encoded data removed]",
            "text/plain": [
              "<Figure size 640x480 with 1 Axes>"
            ]
          },
          "metadata": {},
          "output_type": "display_data"
        }
      ],
      "source": [
        "plot(img1_batch)"
      ]
    },
    {
      "cell_type": "code",
      "execution_count": 96,
      "metadata": {},
      "outputs": [
        {
          "data": {
            "image/png": "[encoded data removed]",
            "text/plain": [
              "<Figure size 640x480 with 1 Axes>"
            ]
          },
          "metadata": {},
          "output_type": "display_data"
        }
      ],
      "source": [
        "plot(img2_batch)"
      ]
    },
    {
      "cell_type": "code",
      "execution_count": 97,
      "metadata": {
        "collapsed": false
      },
      "outputs": [
        {
          "data": {
            "image/png": "[encoded data removed]",
            "text/plain": [
              "<Figure size 640x480 with 2 Axes>"
            ]
          },
          "metadata": {},
          "output_type": "display_data"
        }
      ],
      "source": [
        "from torchvision.utils import flow_to_image\n",
        "\n",
        "flow_imgs = flow_to_image(predicted_flows)\n",
        "\n",
        "# The images have been mapped into [-1, 1] but for plotting we want them in [0, 1]\n",
        "img_batch = [(img1 + 1) / 2 for img1 in img1_batch]\n",
        "\n",
        "grid = [[img1, flow_img] for (img1, flow_img) in zip(img_batch, flow_imgs)]\n",
        "plot(grid)"
      ]
    },
    {
      "cell_type": "code",
      "execution_count": 98,
      "metadata": {},
      "outputs": [],
      "source": [
        "from raft_functions import *"
      ]
    },
    {
      "cell_type": "code",
      "execution_count": 99,
      "metadata": {},
      "outputs": [],
      "source": [
        "def remap_backward(image, flow):\n",
        "    flow[np.isnan(flow)] = 0\n",
        "    x = np.linspace(0, image.shape[1], image.shape[1])\n",
        "    y = np.linspace(0, image.shape[0], image.shape[0])\n",
        "    xv, yv = np.meshgrid(x,y)\n",
        "    map_x = -flow[:, :, 0] + xv\n",
        "    map_y = -flow[:, :, 1] + yv\n",
        "\n",
        "    mapped_img = cv2.remap(image, map_x.astype(np.float32), map_y.astype(np.float32), cv2.INTER_LINEAR) #pull back mapping to avoid holes in the image\n",
        "    return mapped_img"
      ]
    },
    {
      "cell_type": "code",
      "execution_count": 100,
      "metadata": {},
      "outputs": [
        {
          "name": "stdout",
          "output_type": "stream",
          "text": [
            "(200, 392)\n"
          ]
        },
        {
          "data": {
            "image/png": "[encoded data removed]",
            "text/plain": [
              "<Figure size 640x480 with 3 Axes>"
            ]
          },
          "metadata": {},
          "output_type": "display_data"
        },
        {
          "name": "stdout",
          "output_type": "stream",
          "text": [
            "Structural similarity between the 2 images: 0.6629531511108375\n"
          ]
        }
      ],
      "source": [
        "images1 = convert_images(img1_batch)\n",
        "images2 = convert_images(img2_batch)\n",
        "flows = convert_flow(predicted_flows)\n",
        "mapped = remap_backward(images2[0], -flows[0])\n",
        "print(flows[0,:,:,0].shape)\n",
        "images1[0].shape\n",
        "draw_process_evaluate(images2[0], images1[0], mapped)"
      ]
    },
    {
      "cell_type": "code",
      "execution_count": 101,
      "metadata": {},
      "outputs": [],
      "source": [
        "def evaluate_raft_2(images1, images2, flows, remapping = 'forward'):\n",
        "\n",
        "    similarity = []\n",
        "    mapped = []\n",
        "    if remapping == 'forward':\n",
        "        for i in range(len(flows)):\n",
        "            mapped.append(remap_forward(images1[i], flows[i][:,:,:]))\n",
        "            # draw_process_evaluate(images1[i], images2[i], remap_forward(images1[i], flows[i][:,:,:]))\n",
        "            # plt.imshow(draw_flow(images1[i][:,:,0], -flows[i][:,:,:], step=10)), plt.show()\n",
        "            similarity.append([sm.structural_similarity(images2[i][: , :, 0], mapped[i][:, :, 0], data_range= 1)])\n",
        "        \n",
        "    else:\n",
        "        for i in range(len(flows)):\n",
        "            mapped.append(remap_backward(images2[i], flows[i][:,:,:]))\n",
        "            draw_process_evaluate(images2[i], images1[i], remap_backward(images2[i], -flows[i][:,:,:]))\n",
        "            plt.imshow(draw_flow(images2[i][:,:,0], -flows[i][:,:,:], step=20)), plt.show()\n",
        "            similarity.append([sm.structural_similarity(images1[i][: , :, 0], mapped[i][:, :, 0], data_range=1)])\n",
        "    \n",
        "\n",
        "    return np.mean(similarity)"
      ]
    },
    {
      "cell_type": "code",
      "execution_count": 102,
      "metadata": {},
      "outputs": [
        {
          "data": {
            "image/png": "[encoded data removed]",
            "text/plain": [
              "<Figure size 640x480 with 3 Axes>"
            ]
          },
          "metadata": {},
          "output_type": "display_data"
        },
        {
          "name": "stderr",
          "output_type": "stream",
          "text": [
            "Clipping input data to the valid range for imshow with RGB data ([0..1] for floats or [0..255] for integers).\n"
          ]
        },
        {
          "name": "stdout",
          "output_type": "stream",
          "text": [
            "Structural similarity between the 2 images: 0.6629531511108375\n"
          ]
        },
        {
          "data": {
            "image/png": "[encoded data removed]",
            "text/plain": [
              "<Figure size 640x480 with 1 Axes>"
            ]
          },
          "metadata": {},
          "output_type": "display_data"
        },
        {
          "name": "stdout",
          "output_type": "stream",
          "text": [
            "0.5499181909225286\n"
          ]
        }
      ],
      "source": [
        "# from raft_functions import evaluate_raft\n",
        "evaluation = evaluate_raft_2(images1, images2, flows, 'backward')\n",
        "print(evaluation)"
      ]
    },
    {
      "cell_type": "code",
      "execution_count": 103,
      "metadata": {},
      "outputs": [
        {
          "name": "stderr",
          "output_type": "stream",
          "text": [
            "Clipping input data to the valid range for imshow with RGB data ([0..1] for floats or [0..255] for integers).\n"
          ]
        },
        {
          "data": {
            "image/png": "[encoded data removed]",
            "text/plain": [
              "<Figure size 640x480 with 3 Axes>"
            ]
          },
          "metadata": {},
          "output_type": "display_data"
        },
        {
          "name": "stdout",
          "output_type": "stream",
          "text": [
            "Structural similarity between the 2 images: 0.9303595897482964\n"
          ]
        }
      ],
      "source": [
        "import flowpy\n",
        "\n",
        "flows[np.isnan(flows)] = 0\n",
        "mapped = flowpy.backward_warp(images2[0], flows[0])\n",
        "# print(flows[0,:,:,0].shape)\n",
        "images1[0].shape\n",
        "draw_process_evaluate(images2[0], images1[0], mapped)"
      ]
    }
  ],
  "metadata": {
    "kernelspec": {
      "display_name": "Python 3",
      "language": "python",
      "name": "python3"
    },
    "language_info": {
      "codemirror_mode": {
        "name": "ipython",
        "version": 3
      },
      "file_extension": ".py",
      "mimetype": "text/x-python",
      "name": "python",
      "nbconvert_exporter": "python",
      "pygments_lexer": "ipython3",
      "version": "3.9.16"
    }
  },
  "nbformat": 4,
  "nbformat_minor": 0
}
