{
  "cells": [
    {
      "cell_type": "code",
      "execution_count": null,
      "metadata": {
        "collapsed": false
      },
      "outputs": [],
      "source": [
        "%matplotlib inline"
      ]
    },
    {
      "cell_type": "markdown",
      "metadata": {},
      "source": [
        "\n",
        "# Video API\n",
        "\n",
        "This example illustrates some of the APIs that torchvision offers for\n",
        "videos, together with the examples on how to build datasets and more.\n"
      ]
    },
    {
      "cell_type": "markdown",
      "metadata": {},
      "source": [
        "## 1. Introduction: building a new video object and examining the properties\n",
        "First we select a video to test the object out. For the sake of argument\n",
        "we're using one from kinetics400 dataset.\n",
        "To create it, we need to define the path and the stream we want to use.\n",
        "\n"
      ]
    },
    {
      "cell_type": "markdown",
      "metadata": {},
      "source": [
        "Chosen video statistics:\n",
        "\n",
        "- WUzgd7C1pWA.mp4\n",
        "    - source:\n",
        "        - kinetics-400\n",
        "    - video:\n",
        "        - H-264\n",
        "        - MPEG-4 AVC (part 10) (avc1)\n",
        "        - fps: 29.97\n",
        "    - audio:\n",
        "        - MPEG AAC audio (mp4a)\n",
        "        - sample rate: 48K Hz\n",
        "\n",
        "\n"
      ]
    },
    {
      "cell_type": "code",
      "execution_count": 8,
      "metadata": {
        "collapsed": false
      },
      "outputs": [],
      "source": [
        "import torch\n",
        "import torchvision\n",
        "# from torchvision.datasets.utils import download_url\n",
        "# torchvision.set_video_backend(\"video_reader\")\n",
        "\n",
        "# # Download the sample video\n",
        "# download_url(\n",
        "#     \"https://github.com/pytorch/vision/blob/main/test/assets/videos/WUzgd7C1pWA.mp4?raw=true\",\n",
        "#     \".\",\n",
        "#     \"WUzgd7C1pWA.mp4\")\n",
        "video_path = \"/Users/men22/OneDrive - University of Sussex/FYP/Participants/Participant_12/Processed_data/Video/Subject_12_01.mp4\""
      ]
    },
    {
      "cell_type": "markdown",
      "metadata": {},
      "source": [
        "Streams are defined in a similar fashion as torch devices. We encode them as strings in a form\n",
        "of ``stream_type:stream_id`` where ``stream_type`` is a string and ``stream_id`` a long int.\n",
        "The constructor accepts passing a ``stream_type`` only, in which case the stream is auto-discovered.\n",
        "Firstly, let's get the metadata for our particular video:\n",
        "\n"
      ]
    },
    {
      "cell_type": "code",
      "execution_count": 9,
      "metadata": {
        "collapsed": false
      },
      "outputs": [
        {
          "data": {
            "text/plain": "{'audio': {'framerate': [48000.0], 'duration': [32.582541666666664]},\n 'video': {'fps': [59.94005994005994], 'duration': [32.58255]}}"
          },
          "execution_count": 9,
          "metadata": {},
          "output_type": "execute_result"
        }
      ],
      "source": [
        "stream = \"video\"\n",
        "video = torchvision.io.VideoReader(video_path, stream)\n",
        "video.get_metadata()"
      ]
    },
    {
      "cell_type": "markdown",
      "metadata": {},
      "source": [
        "Here we can see that video has two streams - a video and an audio stream.\n",
        "Currently available stream types include ['video', 'audio'].\n",
        "Each descriptor consists of two parts: stream type (e.g. 'video') and a unique stream id\n",
        "(which are determined by video encoding).\n",
        "In this way, if the video container contains multiple streams of the same type,\n",
        "users can access the one they want.\n",
        "If only stream type is passed, the decoder auto-detects first stream of that type and returns it.\n",
        "\n"
      ]
    },
    {
      "cell_type": "markdown",
      "metadata": {},
      "source": [
        "Let's read all the frames from the video stream. By default, the return value of\n",
        "``next(video_reader)`` is a dict containing the following fields.\n",
        "\n",
        "The return fields are:\n",
        "\n",
        "- ``data``: containing a torch.tensor\n",
        "- ``pts``: containing a float timestamp of this particular frame\n",
        "\n"
      ]
    },
    {
      "cell_type": "code",
      "execution_count": 10,
      "metadata": {
        "collapsed": false
      },
      "outputs": [
        {
          "name": "stdout",
          "output_type": "stream",
          "text": [
            "PTS for first five frames  [0.0, 0.02, 0.04133333333333333, 0.06266666666666666, 0.084]\n",
            "Total number of frames:  1528\n",
            "Approx total number of datapoints we can expect:  1563961.9999999998\n",
            "Read data size:  1466880\n"
          ]
        }
      ],
      "source": [
        "metadata = video.get_metadata()\n",
        "video.set_current_stream(\"audio\")\n",
        "\n",
        "frames = []  # we are going to save the frames here.\n",
        "ptss = []  # pts is a presentation timestamp in seconds (float) of each frame\n",
        "for frame in video:\n",
        "    frames.append(frame['data'])\n",
        "    ptss.append(frame['pts'])\n",
        "\n",
        "print(\"PTS for first five frames \", ptss[:5])\n",
        "print(\"Total number of frames: \", len(frames))\n",
        "approx_nf = metadata['audio']['duration'][0] * metadata['audio']['framerate'][0]\n",
        "print(\"Approx total number of datapoints we can expect: \", approx_nf)\n",
        "print(\"Read data size: \", frames[0].size(0) * len(frames))"
      ]
    },
    {
      "cell_type": "markdown",
      "metadata": {},
      "source": [
        "But what if we only want to read certain time segment of the video?\n",
        "That can be done easily using the combination of our ``seek`` function, and the fact that each call\n",
        "to next returns the presentation timestamp of the returned frame in seconds.\n",
        "\n",
        "Given that our implementation relies on python iterators,\n",
        "we can leverage itertools to simplify the process and make it more pythonic.\n",
        "\n",
        "For example, if we wanted to read ten frames from second second:\n",
        "\n"
      ]
    },
    {
      "cell_type": "code",
      "execution_count": 11,
      "metadata": {
        "collapsed": false
      },
      "outputs": [
        {
          "name": "stdout",
          "output_type": "stream",
          "text": [
            "Total number of frames:  10\n"
          ]
        },
        {
          "name": "stderr",
          "output_type": "stream",
          "text": [
            "/Applications/Anaconda/envs/fyp/lib/python3.8/site-packages/torchvision/io/video_reader.py:245: UserWarning: Accurate seek is not implemented for pyav backend\n",
            "  warnings.warn(\"Accurate seek is not implemented for pyav backend\")\n"
          ]
        }
      ],
      "source": [
        "import itertools\n",
        "video.set_current_stream(\"video\")\n",
        "\n",
        "frames = []  # we are going to save the frames here.\n",
        "\n",
        "# We seek into a second second of the video and use islice to get 10 frames since\n",
        "for frame, pts in itertools.islice(video.seek(2), 10):\n",
        "    frames.append(frame)\n",
        "\n",
        "print(\"Total number of frames: \", len(frames))"
      ]
    },
    {
      "cell_type": "markdown",
      "metadata": {},
      "source": [
        "Or if we wanted to read from 2nd to 5th second,\n",
        "We seek into a second second of the video,\n",
        "then we utilize the itertools takewhile to get the\n",
        "correct number of frames:\n",
        "\n"
      ]
    },
    {
      "cell_type": "code",
      "execution_count": 12,
      "metadata": {
        "collapsed": false
      },
      "outputs": [
        {
          "name": "stdout",
          "output_type": "stream",
          "text": [
            "Total number of frames:  210\n",
            "We can expect approx:  179.82017982017982\n",
            "Tensor size:  torch.Size([3, 720, 1280])\n"
          ]
        }
      ],
      "source": [
        "video.set_current_stream(\"video\")\n",
        "frames = []  # we are going to save the frames here.\n",
        "video = video.seek(2)\n",
        "\n",
        "for frame in itertools.takewhile(lambda x: x['pts'] <= 5, video):\n",
        "    frames.append(frame['data'])\n",
        "\n",
        "print(\"Total number of frames: \", len(frames))\n",
        "approx_nf = (5 - 2) * video.get_metadata()['video']['fps'][0]\n",
        "print(\"We can expect approx: \", approx_nf)\n",
        "print(\"Tensor size: \", frames[0].size())"
      ]
    },
    {
      "cell_type": "markdown",
      "metadata": {},
      "source": [
        "## 2. Building a sample read_video function\n",
        "We can utilize the methods above to build the read video function that follows\n",
        "the same API to the existing ``read_video`` function.\n",
        "\n"
      ]
    },
    {
      "cell_type": "code",
      "execution_count": 13,
      "metadata": {
        "collapsed": false
      },
      "outputs": [
        {
          "name": "stdout",
          "output_type": "stream",
          "text": [
            "torch.Size([1953, 3, 720, 1280]) torch.Size([1564608, 2])\n"
          ]
        }
      ],
      "source": [
        "def example_read_video(video_object, start=0, end=None, read_video=True, read_audio=True):\n",
        "    if end is None:\n",
        "        end = float(\"inf\")\n",
        "    if end < start:\n",
        "        raise ValueError(\n",
        "            \"end time should be larger than start time, got \"\n",
        "            f\"start time={start} and end time={end}\"\n",
        "        )\n",
        "\n",
        "    video_frames = torch.empty(0)\n",
        "    video_pts = []\n",
        "    if read_video:\n",
        "        video_object.set_current_stream(\"video\")\n",
        "        frames = []\n",
        "        for frame in itertools.takewhile(lambda x: x['pts'] <= end, video_object.seek(start)):\n",
        "            frames.append(frame['data'])\n",
        "            video_pts.append(frame['pts'])\n",
        "        if len(frames) > 0:\n",
        "            video_frames = torch.stack(frames, 0)\n",
        "\n",
        "    audio_frames = torch.empty(0)\n",
        "    audio_pts = []\n",
        "    if read_audio:\n",
        "        video_object.set_current_stream(\"audio\")\n",
        "        frames = []\n",
        "        for frame in itertools.takewhile(lambda x: x['pts'] <= end, video_object.seek(start)):\n",
        "            frames.append(frame['data'])\n",
        "            audio_pts.append(frame['pts'])\n",
        "        if len(frames) > 0:\n",
        "            audio_frames = torch.cat(frames, 0)\n",
        "\n",
        "    return video_frames, audio_frames, (video_pts, audio_pts), video_object.get_metadata()\n",
        "\n",
        "\n",
        "# Total number of frames should be 327 for video and 523264 datapoints for audio\n",
        "vf, af, info, meta = example_read_video(video)\n",
        "print(vf.size(), af.size())"
      ]
    },
    {
      "cell_type": "markdown",
      "metadata": {},
      "source": [
        "## 3. Building an example randomly sampled dataset (can be applied to training dataset of kinetics400)\n",
        "Cool, so now we can use the same principle to make the sample dataset.\n",
        "We suggest trying out iterable dataset for this purpose.\n",
        "Here, we are going to build an example dataset that reads randomly selected 10 frames of video.\n",
        "\n"
      ]
    },
    {
      "cell_type": "markdown",
      "metadata": {},
      "source": [
        "Make sample dataset\n",
        "\n"
      ]
    },
    {
      "cell_type": "code",
      "execution_count": null,
      "metadata": {
        "collapsed": false
      },
      "outputs": [],
      "source": [
        "import os\n",
        "os.makedirs(\"./dataset\", exist_ok=True)\n",
        "os.makedirs(\"./dataset/1\", exist_ok=True)\n",
        "os.makedirs(\"./dataset/2\", exist_ok=True)"
      ]
    },
    {
      "cell_type": "markdown",
      "metadata": {},
      "source": [
        "Download the videos\n",
        "\n"
      ]
    },
    {
      "cell_type": "code",
      "execution_count": null,
      "metadata": {
        "collapsed": false
      },
      "outputs": [],
      "source": [
        "from torchvision.datasets.utils import download_url\n",
        "download_url(\n",
        "    \"https://github.com/pytorch/vision/blob/main/test/assets/videos/WUzgd7C1pWA.mp4?raw=true\",\n",
        "    \"./dataset/1\", \"WUzgd7C1pWA.mp4\"\n",
        ")\n",
        "download_url(\n",
        "    \"https://github.com/pytorch/vision/blob/main/test/assets/videos/RATRACE_wave_f_nm_np1_fr_goo_37.avi?raw=true\",\n",
        "    \"./dataset/1\",\n",
        "    \"RATRACE_wave_f_nm_np1_fr_goo_37.avi\"\n",
        ")\n",
        "download_url(\n",
        "    \"https://github.com/pytorch/vision/blob/main/test/assets/videos/SOX5yA1l24A.mp4?raw=true\",\n",
        "    \"./dataset/2\",\n",
        "    \"SOX5yA1l24A.mp4\"\n",
        ")\n",
        "download_url(\n",
        "    \"https://github.com/pytorch/vision/blob/main/test/assets/videos/v_SoccerJuggling_g23_c01.avi?raw=true\",\n",
        "    \"./dataset/2\",\n",
        "    \"v_SoccerJuggling_g23_c01.avi\"\n",
        ")\n",
        "download_url(\n",
        "    \"https://github.com/pytorch/vision/blob/main/test/assets/videos/v_SoccerJuggling_g24_c01.avi?raw=true\",\n",
        "    \"./dataset/2\",\n",
        "    \"v_SoccerJuggling_g24_c01.avi\"\n",
        ")"
      ]
    },
    {
      "cell_type": "markdown",
      "metadata": {},
      "source": [
        "Housekeeping and utilities\n",
        "\n"
      ]
    },
    {
      "cell_type": "code",
      "execution_count": null,
      "metadata": {
        "collapsed": false
      },
      "outputs": [],
      "source": [
        "import os\n",
        "import random\n",
        "\n",
        "from torchvision.datasets.folder import make_dataset\n",
        "from torchvision import transforms as t\n",
        "\n",
        "\n",
        "def _find_classes(dir):\n",
        "    classes = [d.name for d in os.scandir(dir) if d.is_dir()]\n",
        "    classes.sort()\n",
        "    class_to_idx = {cls_name: i for i, cls_name in enumerate(classes)}\n",
        "    return classes, class_to_idx\n",
        "\n",
        "\n",
        "def get_samples(root, extensions=(\".mp4\", \".avi\")):\n",
        "    _, class_to_idx = _find_classes(root)\n",
        "    return make_dataset(root, class_to_idx, extensions=extensions)"
      ]
    },
    {
      "cell_type": "markdown",
      "metadata": {},
      "source": [
        "We are going to define the dataset and some basic arguments.\n",
        "We assume the structure of the FolderDataset, and add the following parameters:\n",
        "\n",
        "- ``clip_len``: length of a clip in frames\n",
        "- ``frame_transform``: transform for every frame individually\n",
        "- ``video_transform``: transform on a video sequence\n",
        "\n",
        "<div class=\"alert alert-info\"><h4>Note</h4><p>We actually add epoch size as using :func:`~torch.utils.data.IterableDataset`\n",
        "  class allows us to naturally oversample clips or images from each video if needed.</p></div>\n",
        "\n"
      ]
    },
    {
      "cell_type": "code",
      "execution_count": null,
      "metadata": {
        "collapsed": false
      },
      "outputs": [],
      "source": [
        "class RandomDataset(torch.utils.data.IterableDataset):\n",
        "    def __init__(self, root, epoch_size=None, frame_transform=None, video_transform=None, clip_len=16):\n",
        "        super(RandomDataset).__init__()\n",
        "\n",
        "        self.samples = get_samples(root)\n",
        "\n",
        "        # Allow for temporal jittering\n",
        "        if epoch_size is None:\n",
        "            epoch_size = len(self.samples)\n",
        "        self.epoch_size = epoch_size\n",
        "\n",
        "        self.clip_len = clip_len\n",
        "        self.frame_transform = frame_transform\n",
        "        self.video_transform = video_transform\n",
        "\n",
        "    def __iter__(self):\n",
        "        for i in range(self.epoch_size):\n",
        "            # Get random sample\n",
        "            path, target = random.choice(self.samples)\n",
        "            # Get video object\n",
        "            vid = torchvision.io.VideoReader(path, \"video\")\n",
        "            metadata = vid.get_metadata()\n",
        "            video_frames = []  # video frame buffer\n",
        "\n",
        "            # Seek and return frames\n",
        "            max_seek = metadata[\"video\"]['duration'][0] - (self.clip_len / metadata[\"video\"]['fps'][0])\n",
        "            start = random.uniform(0., max_seek)\n",
        "            for frame in itertools.islice(vid.seek(start), self.clip_len):\n",
        "                video_frames.append(self.frame_transform(frame['data']))\n",
        "                current_pts = frame['pts']\n",
        "            # Stack it into a tensor\n",
        "            video = torch.stack(video_frames, 0)\n",
        "            if self.video_transform:\n",
        "                video = self.video_transform(video)\n",
        "            output = {\n",
        "                'path': path,\n",
        "                'video': video,\n",
        "                'target': target,\n",
        "                'start': start,\n",
        "                'end': current_pts}\n",
        "            yield output"
      ]
    },
    {
      "cell_type": "markdown",
      "metadata": {},
      "source": [
        "Given a path of videos in a folder structure, i.e:\n",
        "\n",
        "- dataset\n",
        "    - class 1\n",
        "        - file 0\n",
        "        - file 1\n",
        "        - ...\n",
        "    - class 2\n",
        "        - file 0\n",
        "        - file 1\n",
        "        - ...\n",
        "    - ...\n",
        "\n",
        "We can generate a dataloader and test the dataset.\n",
        "\n"
      ]
    },
    {
      "cell_type": "code",
      "execution_count": null,
      "metadata": {
        "collapsed": false
      },
      "outputs": [],
      "source": [
        "transforms = [t.Resize((112, 112))]\n",
        "frame_transform = t.Compose(transforms)\n",
        "\n",
        "dataset = RandomDataset(\"./dataset\", epoch_size=None, frame_transform=frame_transform)"
      ]
    },
    {
      "cell_type": "code",
      "execution_count": null,
      "metadata": {
        "collapsed": false
      },
      "outputs": [],
      "source": [
        "from torch.utils.data import DataLoader\n",
        "loader = DataLoader(dataset, batch_size=12)\n",
        "data = {\"video\": [], 'start': [], 'end': [], 'tensorsize': []}\n",
        "for batch in loader:\n",
        "    for i in range(len(batch['path'])):\n",
        "        data['video'].append(batch['path'][i])\n",
        "        data['start'].append(batch['start'][i].item())\n",
        "        data['end'].append(batch['end'][i].item())\n",
        "        data['tensorsize'].append(batch['video'][i].size())\n",
        "print(data)"
      ]
    },
    {
      "cell_type": "markdown",
      "metadata": {},
      "source": [
        "## 4. Data Visualization\n",
        "Example of visualized video\n",
        "\n"
      ]
    },
    {
      "cell_type": "code",
      "execution_count": null,
      "metadata": {
        "collapsed": false
      },
      "outputs": [],
      "source": [
        "import matplotlib.pyplot as plt\n",
        "\n",
        "plt.figure(figsize=(12, 12))\n",
        "for i in range(16):\n",
        "    plt.subplot(4, 4, i + 1)\n",
        "    plt.imshow(batch[\"video\"][0, i, ...].permute(1, 2, 0))\n",
        "    plt.axis(\"off\")"
      ]
    },
    {
      "cell_type": "markdown",
      "metadata": {},
      "source": [
        "Cleanup the video and dataset:\n",
        "\n"
      ]
    },
    {
      "cell_type": "code",
      "execution_count": null,
      "metadata": {
        "collapsed": false
      },
      "outputs": [],
      "source": [
        "import os\n",
        "import shutil\n",
        "os.remove(\"./WUzgd7C1pWA.mp4\")\n",
        "shutil.rmtree(\"./dataset\")"
      ]
    }
  ],
  "metadata": {
    "kernelspec": {
      "display_name": "Python 3.8.16 64-bit ('fyp': conda)",
      "metadata": {
        "interpreter": {
          "hash": "171d7e6842f9b1055e73b0bdc4e0b6d31ed66b0e8307d5525692edbfb1ae5fcd"
        }
      },
      "name": "python3"
    },
    "language_info": {
      "codemirror_mode": {
        "name": "ipython",
        "version": 3
      },
      "file_extension": ".py",
      "mimetype": "text/x-python",
      "name": "python",
      "nbconvert_exporter": "python",
      "pygments_lexer": "ipython3",
      "version": "3.8.16"
    }
  },
  "nbformat": 4,
  "nbformat_minor": 0
}