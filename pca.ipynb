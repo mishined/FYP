{
 "cells": [
  {
   "cell_type": "code",
   "execution_count": 1,
   "metadata": {},
   "outputs": [],
   "source": [
    "import pickle\n",
    "with open('flows1.pickle','rb') as temp:\n",
    "    flow = pickle.load(temp)"
   ]
  },
  {
   "cell_type": "code",
   "execution_count": 2,
   "metadata": {},
   "outputs": [
    {
     "data": {
      "text/plain": [
       "torch.Size([5, 2, 256, 256])"
      ]
     },
     "execution_count": 2,
     "metadata": {},
     "output_type": "execute_result"
    }
   ],
   "source": [
    "flow[4].shape"
   ]
  },
  {
   "cell_type": "code",
   "execution_count": 31,
   "metadata": {},
   "outputs": [
    {
     "name": "stdout",
     "output_type": "stream",
     "text": [
      "(5, 2)\n",
      "[[[ 0.2219913   0.2196356   0.22016568 ... -0.11870162 -0.11879127\n",
      "   -0.11827517]\n",
      "  [ 0.22298145  0.22022802  0.21927539 ... -0.11847363 -0.11854476\n",
      "   -0.11857025]\n",
      "  [ 0.22229329  0.21964376  0.21789601 ... -0.11843689 -0.11844819\n",
      "   -0.11865494]\n",
      "  ...\n",
      "  [-0.57524407 -0.57652503 -0.57708496 ... -0.31062555 -0.31172353\n",
      "   -0.31419465]\n",
      "  [-0.5780835  -0.5800778  -0.5774856  ... -0.3122788  -0.31567368\n",
      "   -0.31938866]\n",
      "  [-0.5806232  -0.5834712  -0.57906735 ... -0.3148762  -0.32034907\n",
      "   -0.3258086 ]]\n",
      "\n",
      " [[-0.08444576 -0.08483641 -0.08572178 ...  0.10751875  0.10680301\n",
      "    0.1075604 ]\n",
      "  [-0.08528524 -0.08492223 -0.08506845 ...  0.10782439  0.10740396\n",
      "    0.10716447]\n",
      "  [-0.08587848 -0.08515059 -0.08482878 ...  0.1080537   0.1076719\n",
      "    0.10706564]\n",
      "  ...\n",
      "  [ 0.10988182  0.11060417  0.11093456 ...  0.32250354  0.3239221\n",
      "    0.32570004]\n",
      "  [ 0.11009726  0.11111697  0.11119042 ...  0.3232215   0.32532233\n",
      "    0.3274299 ]\n",
      "  [ 0.11141691  0.11216824  0.11179848 ...  0.3244696   0.32660508\n",
      "    0.32829934]]]\n"
     ]
    }
   ],
   "source": [
    "import numpy as np\n",
    "from sklearn.decomposition import PCA\n",
    "\n",
    "# flow fields for all videos\n",
    "all_flow_fields = [...] # List of flow fields, where each flow field is a 2D numpy array\n",
    "\n",
    "flows = [fl.detach().numpy() for i, fl in enumerate(flow)]\n",
    "example = flow[4].detach().numpy()\n",
    "print(example[:,:,0,0].shape)\n",
    "ex = example[1,:,:,:]\n",
    "print(ex)\n",
    "# concatenate flow fields into one 2D array\n",
    "X = np.concatenate(ex, axis=1)\n",
    "\n",
    "# apply PCA with 10 components\n",
    "pca = PCA(n_components=10)\n",
    "pca.fit(X)\n",
    "\n",
    "# extract the main components\n",
    "components = pca.components_\n"
   ]
  },
  {
   "cell_type": "code",
   "execution_count": 32,
   "metadata": {},
   "outputs": [
    {
     "name": "stdout",
     "output_type": "stream",
     "text": [
      "Explained variances for first 5 components: [0.8106022  0.09042655 0.03115568 0.0210623  0.01582368 0.00774582\n",
      " 0.00536016 0.00355137 0.00295329 0.00221043]\n"
     ]
    }
   ],
   "source": [
    "# compute explained variances for each principal component\n",
    "explained_variances = pca.explained_variance_ratio_\n",
    "\n",
    "# print explained variances for the first 5 components\n",
    "print(\"Explained variances for first 5 components:\", explained_variances)\n"
   ]
  },
  {
   "cell_type": "code",
   "execution_count": 39,
   "metadata": {},
   "outputs": [
    {
     "name": "stdout",
     "output_type": "stream",
     "text": [
      "Explained variances for first 5 components: [0.43532562 0.22425163 0.06754543 0.0384574  0.0337152 ]\n"
     ]
    }
   ],
   "source": [
    "import numpy as np\n",
    "from sklearn.decomposition import PCA\n",
    "\n",
    "# flow fields for all videos\n",
    "all_flow_fields = [fl.detach().numpy() for i, fl in enumerate(flow)] # List of flow fields, where each flow field is a 4D numpy array of shape (n, 2, 256, 256)\n",
    "\n",
    "# concatenate flow fields into one 2D array\n",
    "X = []\n",
    "for flow_fields in all_flow_fields:\n",
    "    n = flow_fields.shape[0]\n",
    "    X.append(flow_fields.reshape(n, -1))\n",
    "X = np.concatenate(X)\n",
    "\n",
    "# apply PCA with 10 components\n",
    "pca = PCA(n_components=10)\n",
    "pca.fit(X)\n",
    "\n",
    "# extract the main components\n",
    "components = pca.components_\n",
    "\n",
    "# compute explained variances for each principal component\n",
    "explained_variances = pca.explained_variance_ratio_\n",
    "\n",
    "# print explained variances for the first 5 components\n",
    "print(\"Explained variances for first 5 components:\", explained_variances[:5])\n"
   ]
  },
  {
   "cell_type": "code",
   "execution_count": null,
   "metadata": {},
   "outputs": [],
   "source": [
    "for i in range(10):\n",
    "    ax = axes[i//5, i%5]\n",
    "    size = components[i].size // (2*256*256)\n",
    "    component = components[i].reshape(size, 2, 256, 256)\n",
    "    U = component[:, 0, :, :]\n",
    "    V = component[:, 1, :, :]\n",
    "    ax.imshow(flow_to_image(U.mean(axis=0), V.mean(axis=0)))\n",
    "    ax.axis('off')\n",
    "plt.show()"
   ]
  },
  {
   "cell_type": "code",
   "execution_count": 38,
   "metadata": {},
   "outputs": [
    {
     "ename": "ValueError",
     "evalue": "cannot reshape array of size 131072 into shape (5,2,256,256)",
     "output_type": "error",
     "traceback": [
      "\u001b[1;31m---------------------------------------------------------------------------\u001b[0m",
      "\u001b[1;31mValueError\u001b[0m                                Traceback (most recent call last)",
      "Cell \u001b[1;32mIn[38], line 24\u001b[0m\n\u001b[0;32m     22\u001b[0m \u001b[39mfor\u001b[39;00m i \u001b[39min\u001b[39;00m \u001b[39mrange\u001b[39m(\u001b[39m10\u001b[39m):\n\u001b[0;32m     23\u001b[0m     ax \u001b[39m=\u001b[39m axes[i\u001b[39m/\u001b[39m\u001b[39m/\u001b[39m\u001b[39m5\u001b[39m, i\u001b[39m%\u001b[39m\u001b[39m5\u001b[39m]\n\u001b[1;32m---> 24\u001b[0m     component \u001b[39m=\u001b[39m components[i]\u001b[39m.\u001b[39;49mreshape(\u001b[39m5\u001b[39;49m, \u001b[39m2\u001b[39;49m, \u001b[39m256\u001b[39;49m, \u001b[39m256\u001b[39;49m)\n\u001b[0;32m     25\u001b[0m     U \u001b[39m=\u001b[39m component[:, \u001b[39m0\u001b[39m, :, :]\n\u001b[0;32m     26\u001b[0m     V \u001b[39m=\u001b[39m component[:, \u001b[39m1\u001b[39m, :, :]\n",
      "\u001b[1;31mValueError\u001b[0m: cannot reshape array of size 131072 into shape (5,2,256,256)"
     ]
    },
    {
     "data": {
      "image/png": "[encoded data removed]",
      "text/plain": [
       "<Figure size 1500x600 with 10 Axes>"
      ]
     },
     "metadata": {},
     "output_type": "display_data"
    }
   ],
   "source": [
    "import matplotlib.pyplot as plt\n",
    "\n",
    "# flow fields for all videos\n",
    "all_flow_fields = [fl.detach().numpy() for i, fl in enumerate(flow)] # List of flow fields, where each flow field is a 4D numpy array of shape (n_flows, 2, 256, 256)\n",
    "\n",
    "# reshape flow fields into a 2D array\n",
    "X = []\n",
    "for flow_fields in all_flow_fields:\n",
    "    n_samples = flow_fields.shape[0]\n",
    "    X.append(flow_fields.reshape(n_samples, -1))\n",
    "X = np.concatenate(X)\n",
    "\n",
    "# apply PCA with 10 components\n",
    "pca = PCA(n_components=10)\n",
    "pca.fit(X)\n",
    "\n",
    "# extract the main components\n",
    "components = pca.components_\n",
    "\n",
    "# plot the first few principal components\n",
    "fig, axes = plt.subplots(nrows=2, ncols=5, figsize=(15,6))\n",
    "for i in range(10):\n",
    "    ax = axes[i//5, i%5]\n",
    "    component = components[i].reshape(5, 2, 256, 256)\n",
    "    U = component[:, 0, :, :]\n",
    "    V = component[:, 1, :, :]\n",
    "    ax.quiver(U.mean(axis=0), V.mean(axis=0), scale=50)\n",
    "    ax.axis('off')\n",
    "plt.show()\n",
    "\n"
   ]
  }
 ],
 "metadata": {
  "kernelspec": {
   "display_name": "fyp3",
   "language": "python",
   "name": "python3"
  },
  "language_info": {
   "codemirror_mode": {
    "name": "ipython",
    "version": 3
   },
   "file_extension": ".py",
   "mimetype": "text/x-python",
   "name": "python",
   "nbconvert_exporter": "python",
   "pygments_lexer": "ipython3",
   "version": "3.8.16"
  },
  "orig_nbformat": 4
 },
 "nbformat": 4,
 "nbformat_minor": 2
}
